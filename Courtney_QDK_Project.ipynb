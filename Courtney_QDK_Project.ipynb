{
  "nbformat": 4,
  "nbformat_minor": 0,
  "metadata": {
    "kernelspec": {
      "display_name": "Python 3",
      "language": "python",
      "name": "python3"
    },
    "language_info": {
      "codemirror_mode": {
        "name": "ipython",
        "version": 3
      },
      "file_extension": ".py",
      "mimetype": "text/x-python",
      "name": "python",
      "nbconvert_exporter": "python",
      "pygments_lexer": "ipython3",
      "version": "3.6.3"
    },
    "colab": {
      "name": "Courtney QDK Project.ipynb",
      "provenance": [],
      "collapsed_sections": [],
      "include_colab_link": true
    }
  },
  "cells": [
    {
      "cell_type": "markdown",
      "metadata": {
        "id": "view-in-github",
        "colab_type": "text"
      },
      "source": [
        "<a href=\"https://colab.research.google.com/github/courtneyjhodgson/school/blob/main/Courtney_QDK_Project.ipynb\" target=\"_parent\"><img src=\"https://colab.research.google.com/assets/colab-badge.svg\" alt=\"Open In Colab\"/></a>"
      ]
    },
    {
      "cell_type": "code",
      "metadata": {
        "collapsed": true,
        "id": "TZu2N08hyOgV"
      },
      "source": [
        "# TODO: Put your names here.\n",
        "# Name: Courtney Hodgson\n",
        "# Name: Reese Feldmeier"
      ],
      "execution_count": null,
      "outputs": []
    },
    {
      "cell_type": "code",
      "metadata": {
        "collapsed": true,
        "id": "PmR5G4h1yOgg"
      },
      "source": [
        "#Execute This Cell First! #This cell's contents should match those of photon.py\n",
        "\n",
        "import random\n",
        "import numpy as np\n",
        "\n",
        "class InputError(Exception):\n",
        "    def __int__(self, expression, message):\n",
        "        self.expression = expression\n",
        "        self.message = message\n",
        "\n",
        "class Photon:\n",
        "\n",
        "    def __init__(self, Hcomp=0, Vcomp=0):\n",
        "        self.alpha = Hcomp\n",
        "        self.beta  = Vcomp\n",
        "\n",
        "    # This is for debugging purposes only!\n",
        "    def toString(self):\n",
        "        if np.isreal(self.alpha):\n",
        "            string = str(self.alpha) + \"|H> \"\n",
        "        else:\n",
        "            string = str(self.alpha) + \"|H> \"\n",
        "        if np.isreal(self.beta):\n",
        "            if self.beta >= 0:\n",
        "                string += \"+ \" + str(self.beta) + \"|V>\"\n",
        "            else:\n",
        "                string += \"- \" + str(-self.beta) + \"|V>\"\n",
        "        else:\n",
        "            string += \"+ \" + str(self.beta) + \"|V>\"\n",
        "        return string\n",
        "\n",
        "    def prepareVacuum(self):\n",
        "        energyPerMode = 0.5; # in units of hbar*omega\n",
        "        x0 = np.sqrt(energyPerMode)*random.gauss(0,1)/np.sqrt(2)\n",
        "        y0 = np.sqrt(energyPerMode)*random.gauss(0,1)/np.sqrt(2)\n",
        "        x1 = np.sqrt(energyPerMode)*random.gauss(0,1)/np.sqrt(2)\n",
        "        y1 = np.sqrt(energyPerMode)*random.gauss(0,1)/np.sqrt(2)\n",
        "        self.alpha = complex(x0, y0)\n",
        "        self.beta  = complex(x1, y1)\n",
        "\n",
        "    def prepare(self, alpha, beta, avgPhotonNumber):\n",
        "        if avgPhotonNumber < 0:\n",
        "            raise InputError()\n",
        "        vac = Photon()\n",
        "        vac.prepareVacuum()\n",
        "        self.alpha = alpha * np.sqrt(avgPhotonNumber) + vac.alpha\n",
        "        self.beta  = beta  * np.sqrt(avgPhotonNumber) + vac.beta\n",
        "\n",
        "    def prepareH(self, avgPhotonNumber):\n",
        "        self.prepare(1, 0, avgPhotonNumber)\n",
        "\n",
        "    def prepareV(self, avgPhotonNumber):\n",
        "        self.prepare(0,1, avgPhotonNumber)\n",
        "\n",
        "    def prepareD(self, avgPhotonNumber):\n",
        "        self.prepare(1/np.sqrt(2),  1/np.sqrt(2), avgPhotonNumber)\n",
        "\n",
        "    def prepareA(self, avgPhotonNumber):\n",
        "        self.prepare(1/np.sqrt(2), -1/np.sqrt(2), avgPhotonNumber)\n",
        "\n",
        "    def prepareR(self, avgPhotonNumber):\n",
        "        self.prepare(1/np.sqrt(2),  1j/np.sqrt(2), avgPhotonNumber)\n",
        "\n",
        "    def prepareL(self, avgPhotonNumber):\n",
        "        self.prepare(1/np.sqrt(2), -1j/np.sqrt(2), avgPhotonNumber)\n",
        "\n",
        "    def measureHV(self, probDarkCount):\n",
        "        if probDarkCount < 0 or probDarkCount > 1:\n",
        "            raise InputError\n",
        "        threshold  = -0.5*np.log(1 - np.sqrt(1-probDarkCount))\n",
        "        intensityH = abs(self.alpha)**2\n",
        "        intensityV = abs(self.beta)**2\n",
        "        # The photon is absorbed by the detector:\n",
        "        self.prepareVacuum()\n",
        "        # The outcome is determined by threshold exceedances:\n",
        "        if intensityH <= threshold and intensityV <= threshold:\n",
        "            return \"N\" # no detection (invalid measurement)\n",
        "        elif intensityH >  threshold and intensityV <= threshold:\n",
        "            return \"H\" # single H photon detected\n",
        "        elif intensityH <=  threshold and intensityV > threshold:\n",
        "            return \"V\" # single V photon detected\n",
        "        else:\n",
        "            return \"M\" # multiple detections (invalid measurement)\n",
        "\n",
        "    def measureDA(self, probDarkCount):\n",
        "        a = self.alpha\n",
        "        b = self.beta\n",
        "        self.alpha = (a+b)/np.sqrt(2)\n",
        "        self.beta  = (a-b)/np.sqrt(2)\n",
        "        outcome = self.measureHV(probDarkCount)\n",
        "        if outcome == \"H\": return \"D\"\n",
        "        if outcome == \"V\": return \"A\"\n",
        "        else: return outcome\n",
        "\n",
        "    def measureRL(self, probDarkCount):\n",
        "        a = self.alpha\n",
        "        b = self.beta\n",
        "        self.alpha = (a-b*1j)/np.sqrt(2)\n",
        "        self.beta  = (a+b*1j)/np.sqrt(2)\n",
        "        outcome = self.measureHV(probDarkCount)\n",
        "        if outcome == \"H\": return \"R\"\n",
        "        if outcome == \"V\": return \"L\"\n",
        "        else: return outcome\n",
        "\n",
        "    def applyPolarizer(self, theta, phi):\n",
        "\t# Apply a polarizing filter according to the input parameters.\n",
        "\t# theta=0,    phi=0:     H polarizer\n",
        "\t# theta=pi/2, phi=0:     V polarizer\n",
        "\t# theta=pi/4, phi=0:     D polarizer\n",
        "\t# theta=pi/4, phi=pi:    A polarizer\n",
        "\t# theta=pi/4, phi=+pi/2: R polarizer\n",
        "\t# theta=pi/4, phi=-pi/2: L polarizer\n",
        "        z = np.exp(1j*phi)\n",
        "        a = self.alpha\n",
        "        b = self.beta\n",
        "        self.alpha = a*(1+np.cos(2*theta))/2 + b*np.sin(2*theta)/2*np.conj(z)\n",
        "        self.beta  = a*np.sin(2*theta)/2*z + b*(1-np.cos(2*theta))/2\n",
        "        # Now add an extra vacuum component.\n",
        "        vac = Photon()\n",
        "        vac.prepareVacuum()\n",
        "        a = vac.alpha\n",
        "        b = vac.beta\n",
        "        self.alpha = self.alpha + a*np.sin(theta)**2 + b*(-np.sin(2*theta)/2)*np.conj(z)\n",
        "        self.beta  = self.beta  + a*(-np.sin(2*theta)/2)*z + b*np.cos(theta)**2\n",
        "\n",
        "    def applyUnitaryGate(self, theta, phi, lamb):\n",
        "        U = [[0,0],[0,0]]\n",
        "        z1 = np.exp(1j*phi)\n",
        "        z2 = -np.exp(1j*lamb)\n",
        "        z3 = np.exp(1j*(lamb+phi))\n",
        "        U[0][0] = np.cos(theta/2)\n",
        "        U[1][0] = np.sin(theta/2)*z1\n",
        "        U[0][1] = np.sin(theta/2)*z2\n",
        "        U[1][1] = np.cos(theta/2)*z3\n",
        "        a = self.alpha\n",
        "        b = self.beta\n",
        "        self.alpha = U[0][0]*a + U[0][1]*b\n",
        "        self.beta  = U[1][0]*a + U[1][1]*b\n",
        "\n",
        "    def applyXGate(self):\n",
        "        # Applies the Pauli X gate\n",
        "        self.applyUnitaryGate(np.pi, 0, np.pi)\n",
        "\n",
        "    def applyYGate(self):\n",
        "        # Applies the Pauli Y gate\n",
        "        self.applyUnitaryGate(np.pi, np.pi/2, np.pi/2)\n",
        "\n",
        "    def applyZGate(self):\n",
        "        # Applies the Pauli X gate\n",
        "        self.applyUnitaryGate(0, np.pi, 0)\n",
        "\n",
        "    def applyHGate(self):\n",
        "        # Applied the Hadamard (half-wavelength) gate\n",
        "        self.applyUnitaryGate(np.pi/2, 0, np.pi)\n",
        "\n",
        "    def applyQGate(self):\n",
        "        # Applies the SH (quarter-wavelength) gate\n",
        "        self.applyUnitaryGate(np.pi/2, np.pi/2, np.pi)\n",
        "\n",
        "    def applyNoisyGate(self, p):\n",
        "        # This operation acts as a depolarizing channel.\n",
        "\t# p = 0 leaves the photon unchanged.\n",
        "\t# p = 1 yields a completely random photon.\n",
        "\t# 0 < p < 1 yields a partially random photon.\n",
        "        if p < 0 or p > 1:\n",
        "            raise InputError\n",
        "        theta = np.arccos(1 - 2*random.uniform(0,1)*p)\n",
        "        phi   = p*(2*random.uniform(0,1) - 1)*np.pi\n",
        "        lamb  = p*(2*random.uniform(0,1) - 1)*np.pi\n",
        "        self.applyUnitaryGate(theta, phi, lamb)\n",
        "\n",
        "    def applyAttenuation(self, r):\n",
        "\t# This operation acts as a partially reflecting beam splitter.\n",
        "\t# r = 0 leaves the photon unchanged.\n",
        "\t# r = 1 completely absorbs the photon, leaving a vacuum state.\n",
        "\t# 0 < r < 1 partially attenuates the photon and adds some vacuum.\n",
        "\t# r is the reflectivity.\n",
        "        if r < 0 or r > 1:\n",
        "            raise InputError\n",
        "        t = np.sqrt(1-r*r) # t is the transmissivity.\n",
        "        vac = Photon()\n",
        "        vac.prepareVacuum()\n",
        "        self.alpha = (self.alpha)*t + (vac.alpha)*r\n",
        "        self.beta  = (self.beta )*t + (vac.beta)*r"
      ],
      "execution_count": null,
      "outputs": []
    },
    {
      "cell_type": "code",
      "metadata": {
        "collapsed": true,
        "id": "p58wZ3H-yOgk"
      },
      "source": [
        ""
      ],
      "execution_count": null,
      "outputs": []
    },
    {
      "cell_type": "code",
      "metadata": {
        "collapsed": true,
        "id": "uIbQIihQyOgl"
      },
      "source": [
        "n = 100 # number of photons\n",
        "p = 0.5 #average photon number\n",
        "d = 0.5 #dark count probability"
      ],
      "execution_count": null,
      "outputs": []
    },
    {
      "cell_type": "code",
      "metadata": {
        "collapsed": true,
        "id": "V0toFcKYyOgm"
      },
      "source": [
        ""
      ],
      "execution_count": null,
      "outputs": []
    },
    {
      "cell_type": "code",
      "metadata": {
        "collapsed": true,
        "colab": {
          "base_uri": "https://localhost:8080/"
        },
        "id": "IPHysQUlyOgn",
        "outputId": "76708c9f-a0ea-4f6c-df0e-827c2a460e19"
      },
      "source": [
        "# Alice --------------------------------------------\n",
        "\n",
        "# Alice generates the raw key.\n",
        "keyAlice = \"\"\n",
        "for i in range(n): # Iterate over the number of photons.\n",
        "    # Append a random character ('0' or '1') to the end.\n",
        "    if random.randint(0,1)==0: # Flip a coin (0 or 1).\n",
        "        keyAlice += '0'\n",
        "    else:\n",
        "        keyAlice += '1'\n",
        "print(\"keyAlice    = \" + keyAlice)"
      ],
      "execution_count": null,
      "outputs": [
        {
          "output_type": "stream",
          "text": [
            "keyAlice    = 1000010011100100110110010100101010011111011011101100111011110000111100010001000100110101100101001101\n"
          ],
          "name": "stdout"
        }
      ]
    },
    {
      "cell_type": "code",
      "metadata": {
        "collapsed": true,
        "colab": {
          "base_uri": "https://localhost:8080/"
        },
        "id": "36QiLOWVyOgo",
        "outputId": "c2e9f1b4-7d21-4e86-ce3f-a04cfe349c8a"
      },
      "source": [
        "# Alice chooses the encoding basis for each key bit.\n",
        "# This should be a string of '+'s and 'x's with '+'=H/V, 'x'=D/A.\n",
        "basisAlice = \"\"\n",
        "# TODO: Put your code here.\n",
        "for i in range(n):\n",
        "  if random.randint(0,1) == 0:\n",
        "    basisAlice += '+'\n",
        "  else:\n",
        "    basisAlice += 'x'\n",
        "  \n",
        "print(\"basisAlice  = \" + basisAlice)"
      ],
      "execution_count": null,
      "outputs": [
        {
          "output_type": "stream",
          "text": [
            "basisAlice  = x++++++x+++xxxxxx++x+++x+x+x++x+xx+x++x++++++xxx++xxx+x++++x++x+x+xxxx+x+x+x+++xx++xx+++xxxx+x++xxxx\n"
          ],
          "name": "stdout"
        }
      ]
    },
    {
      "cell_type": "code",
      "metadata": {
        "colab": {
          "base_uri": "https://localhost:8080/"
        },
        "id": "1NfV2yKRyOgp",
        "outputId": "4e135214-a22e-4883-9159-70dae22dc7bd"
      },
      "source": [
        "# Alice selects a photon state according to the key and basis.\n",
        "# This should be a string of the characters 'H', 'V', 'D', 'A'.\n",
        "photonAlice = \"\"\n",
        "# TODO: Put your code here.\n",
        "for i in range(n):\n",
        "  if keyAlice[i] == '0' and basisAlice[i] == '+':\n",
        "    photonAlice += 'H'\n",
        "  elif keyAlice[i] == '1' and basisAlice[i] == '+':\n",
        "    photonAlice += 'V'\n",
        "  elif keyAlice[i] == '0' and basisAlice[i] == 'x':\n",
        "    photonAlice += 'D'\n",
        "  else:\n",
        "    photonAlice += 'A'\n",
        "\n",
        "print(\"photonAlice  = \" + photonAlice)"
      ],
      "execution_count": null,
      "outputs": [
        {
          "output_type": "stream",
          "text": [
            "photonAlice  = AHHHHVHDVVVDDADDAVHAVHHAHAHDVHAHADHAVVAVHVVHVAADVVDDAVAHVVVAHHDHAVAADDHAHDHAHHHADHVADVHVADDAHAHHAADA\n"
          ],
          "name": "stdout"
        }
      ]
    },
    {
      "cell_type": "code",
      "metadata": {
        "collapsed": true,
        "id": "b5hhjYDByOgq",
        "colab": {
          "base_uri": "https://localhost:8080/"
        },
        "outputId": "f55fdc08-4682-4560-d1ff-0541ba9dd7c2"
      },
      "source": [
        "# Alice prepares and sends each photon.\n",
        "# Use the methods of the Photon class to prepare each photon.\n",
        "photonArray = [Photon() for i in range(n)]\n",
        "\n",
        "# TODO: Put your code here.\n",
        "for i in range(n):\n",
        "  if photonAlice[i] == 'H':\n",
        "    photonArray[i].prepareH(p)\n",
        "  elif photonAlice[i] == 'V':\n",
        "    photonArray[i].prepareV(p)\n",
        "  elif photonAlice[i] == 'D':\n",
        "    photonArray[i].prepareD(p)\n",
        "  else:\n",
        "    photonArray[i].prepareA(p)\n",
        "print(photonArray)    \n"
      ],
      "execution_count": null,
      "outputs": [
        {
          "output_type": "stream",
          "text": [
            "[<__main__.Photon object at 0x7f81a6c25e10>, <__main__.Photon object at 0x7f81a6c25c50>, <__main__.Photon object at 0x7f81a6c25290>, <__main__.Photon object at 0x7f81a6c25c90>, <__main__.Photon object at 0x7f81a6c25490>, <__main__.Photon object at 0x7f81a6c25a50>, <__main__.Photon object at 0x7f81a6c25390>, <__main__.Photon object at 0x7f81a6c25610>, <__main__.Photon object at 0x7f81a6c25910>, <__main__.Photon object at 0x7f81a6c25110>, <__main__.Photon object at 0x7f81a6c25710>, <__main__.Photon object at 0x7f81a6c258d0>, <__main__.Photon object at 0x7f81a6c25890>, <__main__.Photon object at 0x7f81a6c254d0>, <__main__.Photon object at 0x7f81a6c25750>, <__main__.Photon object at 0x7f81a6c25850>, <__main__.Photon object at 0x7f81a6c25950>, <__main__.Photon object at 0x7f81a6c25450>, <__main__.Photon object at 0x7f81a6c25150>, <__main__.Photon object at 0x7f81a6c25090>, <__main__.Photon object at 0x7f81a6c25050>, <__main__.Photon object at 0x7f81a6c25a90>, <__main__.Photon object at 0x7f81a6c25650>, <__main__.Photon object at 0x7f81a6c25d10>, <__main__.Photon object at 0x7f81a6c25790>, <__main__.Photon object at 0x7f81a6c25210>, <__main__.Photon object at 0x7f81a6c25e50>, <__main__.Photon object at 0x7f81a6c251d0>, <__main__.Photon object at 0x7f81a6c25550>, <__main__.Photon object at 0x7f81a6c25a10>, <__main__.Photon object at 0x7f81a6c255d0>, <__main__.Photon object at 0x7f81a6c25b10>, <__main__.Photon object at 0x7f81a6c25f50>, <__main__.Photon object at 0x7f81a6c25f90>, <__main__.Photon object at 0x7f81a6c25fd0>, <__main__.Photon object at 0x7f81a6c29050>, <__main__.Photon object at 0x7f81a6c29090>, <__main__.Photon object at 0x7f81a6c290d0>, <__main__.Photon object at 0x7f81a6c29110>, <__main__.Photon object at 0x7f81a6c29150>, <__main__.Photon object at 0x7f81a6c29190>, <__main__.Photon object at 0x7f81a6c291d0>, <__main__.Photon object at 0x7f81a6c29210>, <__main__.Photon object at 0x7f81a6c29250>, <__main__.Photon object at 0x7f81a6c29290>, <__main__.Photon object at 0x7f81a6c292d0>, <__main__.Photon object at 0x7f81a6c29310>, <__main__.Photon object at 0x7f81a6c29350>, <__main__.Photon object at 0x7f81a6c29390>, <__main__.Photon object at 0x7f81a6c293d0>, <__main__.Photon object at 0x7f81a6c29410>, <__main__.Photon object at 0x7f81a6c29450>, <__main__.Photon object at 0x7f81a6c29490>, <__main__.Photon object at 0x7f81a6c294d0>, <__main__.Photon object at 0x7f81a6c29510>, <__main__.Photon object at 0x7f81a6c29550>, <__main__.Photon object at 0x7f81a6c29590>, <__main__.Photon object at 0x7f81a6c295d0>, <__main__.Photon object at 0x7f81a6c29610>, <__main__.Photon object at 0x7f81a6c29650>, <__main__.Photon object at 0x7f81a6c29690>, <__main__.Photon object at 0x7f81a6c296d0>, <__main__.Photon object at 0x7f81a6c29710>, <__main__.Photon object at 0x7f81a6c29750>, <__main__.Photon object at 0x7f81a6c29790>, <__main__.Photon object at 0x7f81a6c297d0>, <__main__.Photon object at 0x7f81a6c29810>, <__main__.Photon object at 0x7f81a6c29850>, <__main__.Photon object at 0x7f81a6c29890>, <__main__.Photon object at 0x7f81a6c298d0>, <__main__.Photon object at 0x7f81a6c29910>, <__main__.Photon object at 0x7f81a6c29950>, <__main__.Photon object at 0x7f81a6c29990>, <__main__.Photon object at 0x7f81a6c299d0>, <__main__.Photon object at 0x7f81a6c29a10>, <__main__.Photon object at 0x7f81a6c29a50>, <__main__.Photon object at 0x7f81a6c29a90>, <__main__.Photon object at 0x7f81a6c29ad0>, <__main__.Photon object at 0x7f81a6c29b10>, <__main__.Photon object at 0x7f81a6c29b50>, <__main__.Photon object at 0x7f81a6c29b90>, <__main__.Photon object at 0x7f81a6c29bd0>, <__main__.Photon object at 0x7f81a6c29c10>, <__main__.Photon object at 0x7f81a6c29c50>, <__main__.Photon object at 0x7f81a6c29c90>, <__main__.Photon object at 0x7f81a6c29cd0>, <__main__.Photon object at 0x7f81a6c29d10>, <__main__.Photon object at 0x7f81a6c29d50>, <__main__.Photon object at 0x7f81a6c29d90>, <__main__.Photon object at 0x7f81a6c29dd0>, <__main__.Photon object at 0x7f81a6c29e10>, <__main__.Photon object at 0x7f81a6c29e50>, <__main__.Photon object at 0x7f81a6c29e90>, <__main__.Photon object at 0x7f81a6c29ed0>, <__main__.Photon object at 0x7f81a6c29f10>, <__main__.Photon object at 0x7f81a6c29f50>, <__main__.Photon object at 0x7f81a6c29f90>, <__main__.Photon object at 0x7f81a6c29fd0>, <__main__.Photon object at 0x7f81a6c26050>, <__main__.Photon object at 0x7f81a6c26090>]\n"
          ],
          "name": "stdout"
        }
      ]
    },
    {
      "cell_type": "code",
      "metadata": {
        "collapsed": true,
        "id": "aNIaXwVvyOgr"
      },
      "source": [
        ""
      ],
      "execution_count": null,
      "outputs": []
    },
    {
      "cell_type": "code",
      "metadata": {
        "collapsed": true,
        "id": "-r1ZTROcyOgs"
      },
      "source": [
        "# Eve   --------------------------------------------\n",
        "\n",
        "# You should implement this section after completing Alice and Bob.\n",
        "# Eve is allowed to do whatever she wants to the photonAlice array.\n",
        "# She cannot, however, have knowledge of Alice's or Bob's choice of bases, \n",
        "# nor Bob's measurement outcomes, until they are publicly announced."
      ],
      "execution_count": null,
      "outputs": []
    },
    {
      "cell_type": "code",
      "metadata": {
        "collapsed": true,
        "id": "Pr7XaHuHyOgt"
      },
      "source": [
        "# Eve selects a subsample of photons from Alice to measure.\n",
        "# interceptIndex should be a string of n characters.\n",
        "# Use the convention '0'=ignored, '1'=intercepted\n",
        "interceptIndex = \"\"\n",
        "# TODO: Put your code here.\n",
        "interceptIndex = \"\"\n",
        "maxIntercept = 14\n",
        "intercepted = 0\n",
        "# TODO: Put your code here.\n",
        "for i in range(n):\n",
        "  if intercepted < maxIntercept:\n",
        "    interceptIndex += str(random.randint(0,1))\n",
        "    if interceptIndex[i] == \"1\":\n",
        "      intercepted += 1\n",
        "  else:\n",
        "    interceptIndex += \"0\"\n",
        "\n",
        "print(interceptIndex)"
      ],
      "execution_count": null,
      "outputs": []
    },
    {
      "cell_type": "code",
      "metadata": {
        "collapsed": true,
        "id": "MduHjEReyOgt"
      },
      "source": [
        "# Eve chooses a basis to measure each intercepted photon.\n",
        "# basisEve should be a string of n characters.\n",
        "# Use the convention '+'=H/V, 'x'=D/A, ' '=not measured\n",
        "basisEve = \"\"\n",
        "# TODO: Put your code here.\n",
        "for i in range(n):\n",
        "  if interceptIndex[i] == \"1\":\n",
        "    if random.randint(0,1) == 0:\n",
        "      basisEve += '+'\n",
        "    else:\n",
        "      basisEve += 'x'\n",
        "  else:\n",
        "    basisEve += ' '\n",
        "\n",
        "print(\"basisEve    = \" + basisEve)"
      ],
      "execution_count": null,
      "outputs": []
    },
    {
      "cell_type": "code",
      "metadata": {
        "collapsed": true,
        "id": "ulmYo-E6yOgu"
      },
      "source": [
        "# Eve performs a measurement on each photon.\n",
        "# outcomeEve should be a string of n characters.\n",
        "# Use the convention 'H','V','D','A', ' '=not measured\n",
        "outcomeEve = \"\"\n",
        "# TODO: Put your code here.\n",
        "for i in range(n):\n",
        "  if basisEve[i] == '+':\n",
        "    outcomeEve += photonArray[i].measureHV(d)\n",
        "  elif basisEve[i] == 'x':\n",
        "    outcomeEve += photonArray[i].measureDA(d)\n",
        "  else:\n",
        "    outcomeEve += ' '\n",
        "\n",
        "outcomeEve = outcomeEve.replace(\"N\",\" \")\n",
        "outcomeEve = outcomeEve.replace(\"M\",\" \")  \n",
        "\n",
        "\n",
        "print(\"outcomeEve  = \" + outcomeEve) "
      ],
      "execution_count": null,
      "outputs": []
    },
    {
      "cell_type": "code",
      "metadata": {
        "collapsed": true,
        "id": "8ntZPVeDyOgu"
      },
      "source": [
        "# Eve resends photons to Bob.\n",
        "# Be sure to handle the cases in which Eve gets an invalid measurement.\n",
        "# TODO: Put your code here.\n",
        "fauxPhotons = [Photon() for i in range(n)]\n",
        "\n",
        "for i in range(n):\n",
        "  if outcomeEve[i] == 'H':\n",
        "      fauxPhotons[i].prepareH(a)\n",
        "  elif outcomeEve[i] == 'V':\n",
        "      fauxPhotons[i].prepareV(a)\n",
        "  elif outcomeEve[i] == 'D':\n",
        "      fauxPhotons[i].prepareD(a)\n",
        "  elif outcomeEve[i] == 'A':\n",
        "      fauxPhotons[i].prepareA(a)\n",
        "  else:\n",
        "    fauxPhotons[i] = photonArray[i]\n",
        "\n",
        "photonArray = fauxPhotons"
      ],
      "execution_count": null,
      "outputs": []
    },
    {
      "cell_type": "code",
      "metadata": {
        "collapsed": true,
        "id": "eKnhyMzQyOgv"
      },
      "source": [
        "\n",
        "# Change M and N to H,V,D,A a basis reading by manipulating amplitude (Attenuate)\n"
      ],
      "execution_count": null,
      "outputs": []
    },
    {
      "cell_type": "code",
      "metadata": {
        "collapsed": true,
        "id": "7Ja8Uf_eyOgx"
      },
      "source": [
        ""
      ],
      "execution_count": null,
      "outputs": []
    },
    {
      "cell_type": "code",
      "metadata": {
        "collapsed": true,
        "id": "wvyULNR0yOgy",
        "colab": {
          "base_uri": "https://localhost:8080/"
        },
        "outputId": "8cdbb8e5-164f-419e-9965-49eef5660f07"
      },
      "source": [
        "# Bob   --------------------------------------------\n",
        "\n",
        "# Bob chooses a basis to measure each photon.\n",
        "# This should be a string of '+'s and 'x's with '+'=H/V, 'x'=D/A.\n",
        "basisBob = \"\"\n",
        "# TODO: Put your code here.\n",
        "for i in range(n):\n",
        "  if random.randint(0,1) == 0:\n",
        "    basisBob += '+'\n",
        "  else:\n",
        "    basisBob += 'x'\n",
        "print(\"basisBob    = \" + basisBob)\n",
        "# TODO: Put your code here."
      ],
      "execution_count": null,
      "outputs": [
        {
          "output_type": "stream",
          "text": [
            "basisBob    = ++xxx++x++xx++xx+++++x+x++xx+x+++++++++x+++xx++x++x+++x+++++x++++x++x+x++xxx+xx++x++x+++xx++xxx+x+x+\n"
          ],
          "name": "stdout"
        }
      ]
    },
    {
      "cell_type": "code",
      "metadata": {
        "collapsed": true,
        "id": "ZfAWnq_RyOgz",
        "colab": {
          "base_uri": "https://localhost:8080/"
        },
        "outputId": "1f092416-a66e-44dc-a8ac-03b2661eca5e"
      },
      "source": [
        "# Bob performs a measurement on each photon.\n",
        "# Use the methods of the Photon class to measure each photon.\n",
        "# outcomeBob should be a string of n characters.\n",
        "# Use the convention 'H','V','D','A', ' '=not measured\n",
        "outcomeBoblist = []\n",
        "outcomeBob = \"\"\n",
        "# TODO: Put your code here.\n",
        "for i in range(n):\n",
        "  if basisBob[i] == '+':\n",
        "    outcomeBoblist.append(photonArray[i].measureHV(d))\n",
        "  else:\n",
        "    outcomeBoblist.append(photonArray[i].measureDA(d))\n",
        "\n",
        "for i in range(n):\n",
        "  if outcomeBoblist[i] == \"N\" or outcomeBoblist[i] == \"M\":\n",
        "    outcomeBoblist[i] = \" \"\n",
        "  outcomeBob += outcomeBoblist[i]\n",
        "\n",
        "\n",
        "print(\"outcomeBob  = \" + outcomeBob) "
      ],
      "execution_count": null,
      "outputs": [
        {
          "output_type": "stream",
          "text": [
            "outcomeBob  =    D    VVDDV   HVH   HAHV  HDV  V    HA  VD V  V D   A V  V       V VAV  A     HA V HHV  HHAA HA  V\n"
          ],
          "name": "stdout"
        }
      ]
    },
    {
      "cell_type": "code",
      "metadata": {
        "collapsed": true,
        "id": "2OvWxD20yOg0",
        "colab": {
          "base_uri": "https://localhost:8080/"
        },
        "outputId": "fd29ef27-2e9e-4894-ca32-d9a067aaaea2"
      },
      "source": [
        "# Bob infers the raw key.\n",
        "keyBob = \"\"\n",
        "# TODO: Put your code here.\n",
        "for i in range(n):\n",
        "  if basisBob[i] == '+' and outcomeBob[i] == 'H':\n",
        "    keyBob += '0'\n",
        "  elif basisBob[i] == '+' and outcomeBob[i] == 'V':\n",
        "    keyBob += '1'\n",
        "  elif basisBob[i] == 'x' and outcomeBob[i] == 'D':\n",
        "    keyBob += '0'\n",
        "  elif basisBob[i] == 'x' and outcomeBob[i] == 'A':\n",
        "    keyBob += '1'\n",
        "  else:\n",
        "    keyBob += \"-\"\n",
        "  \n",
        "print(\"keyBob      = \" + keyBob)\n",
        "# Only about half of Bob's raw key with match Alice's raw key."
      ],
      "execution_count": null,
      "outputs": [
        {
          "output_type": "stream",
          "text": [
            "keyBob      = ---0----11001---010---0101--001--1----01--10-1--1-0---1-1--1-------1-111--1-----01-1-001--0011-01--1\n"
          ],
          "name": "stdout"
        }
      ]
    },
    {
      "cell_type": "code",
      "metadata": {
        "collapsed": true,
        "id": "UMEUIXE0yOg1"
      },
      "source": [
        ""
      ],
      "execution_count": null,
      "outputs": []
    },
    {
      "cell_type": "code",
      "metadata": {
        "collapsed": true,
        "id": "nJ-ChdnXyOg2"
      },
      "source": [
        "# -----------------------------------------------------------\n",
        "# Alice and Bob now publicly announce which bases they chose.\n",
        "# Bob also announces which of his measurements were invalid.\n",
        "# -----------------------------------------------------------"
      ],
      "execution_count": null,
      "outputs": []
    },
    {
      "cell_type": "code",
      "metadata": {
        "collapsed": true,
        "id": "hHDSs59qyOg3",
        "colab": {
          "base_uri": "https://localhost:8080/"
        },
        "outputId": "90b9b56a-a936-44ee-b252-f923d2ac54c5"
      },
      "source": [
        "# Alice & Bob ----------------------------------------------------------\n",
        "\n",
        "# Alice and Bob extract their sifted keys.\n",
        "# siftedAlice and siftedBob should be strings of length n.\n",
        "# Use the convention '0', '1', ' '=removed\n",
        "siftedAlice = \"\"\n",
        "siftedBob   = \"\"\n",
        "# TODO: Put your code here.\n",
        "\n",
        "for i in range(n):\n",
        "  if basisBob[i] == basisAlice[i] and keyBob[i] != \"-\":\n",
        "    siftedAlice += keyAlice[i]\n",
        "    siftedBob += keyBob[i]\n",
        "  else:\n",
        "    siftedAlice += ' '\n",
        "    siftedBob += ' '\n",
        "  \n",
        "print(\"Sifted Alice: \" + siftedAlice)\n",
        "print(\"Sifted Bob  : \" + siftedBob)"
      ],
      "execution_count": null,
      "outputs": [
        {
          "output_type": "stream",
          "text": [
            "Sifted Alice:         11 0     10   010   1             1     1 0   1 1                            101     1 01   \n",
            "Sifted Bob  :         11 0     10   010   0             1     1 0   1 1                            001     1 01   \n"
          ],
          "name": "stdout"
        }
      ]
    },
    {
      "cell_type": "code",
      "metadata": {
        "collapsed": true,
        "id": "omAYl7OByOg3",
        "colab": {
          "base_uri": "https://localhost:8080/"
        },
        "outputId": "6f8fc24a-e928-4ed9-c936-83eff3739930"
      },
      "source": [
        "# Alice and Bob use a portion of their sifted keys to estimate the quantum bit error rate (QBER).\n",
        "# sampleIndex should be a string of n characters.\n",
        "# Use the convention '0'=ignored, '1'=sampled\n",
        "# The QBER is the fraction of mismatches within the sampled portion.\n",
        "# For large samples, it should be close to the actual QBER,\n",
        "# which Alice and Bob, of course, do not know.\n",
        "sampleIndex = \"\"\n",
        "sampledBobQBER = 0\n",
        "sampledTotal = 0\n",
        "sampleMax = 20\n",
        "for i in range(n):\n",
        "  if siftedAlice[i] != ' ' and sampledTotal < sampleMax:\n",
        "    sampleIndex += str(random.randint(0,1))\n",
        "    if sampleIndex[i] == \"1\":\n",
        "      sampledTotal += 1\n",
        "  else:\n",
        "    sampleIndex += \"0\"\n",
        "  \n",
        "for i in range(n):\n",
        "  if sampleIndex[i] == \"1\":\n",
        "    if siftedBob[i] == siftedAlice[i]:\n",
        "      sampledBobQBER += 1\n",
        "    \n",
        "\n",
        "sampledBobQBER = 1 - sampledBobQBER/sampledTotal\n",
        "print (sampledBobQBER)\n",
        "print (str(len(sampleIndex)))\n",
        "print (sampledTotal)\n",
        "\n"
      ],
      "execution_count": null,
      "outputs": [
        {
          "output_type": "stream",
          "text": [
            "0.2857142857142857\n",
            "100\n",
            "7\n"
          ],
          "name": "stdout"
        }
      ]
    },
    {
      "cell_type": "code",
      "metadata": {
        "collapsed": true,
        "id": "5xCYLGW9yOg5",
        "colab": {
          "base_uri": "https://localhost:8080/"
        },
        "outputId": "935f5639-300a-4699-8593-28bf37397a07"
      },
      "source": [
        "# Alice and Bob remove the portion of their sifted keys that was sampled.\n",
        "# Since a portion of the sifted key was publicly revealed, it cannot be used.\n",
        "# secureAlice and secureBob should be strings of length n.\n",
        "# Use the convention '0', '1', ' '=removed\n",
        "secureAlice = \"\"\n",
        "secureBob = \"\"\n",
        "\n",
        "# TODO: Put your code here.\n",
        "for i in range(n):\n",
        "  if sampleIndex[i] == \"0\":\n",
        "    secureAlice += siftedAlice[i]\n",
        "    secureBob += siftedBob[i]\n",
        "  else:\n",
        "    secureAlice += \" \"\n",
        "    secureBob += \" \"\n",
        "\n",
        "print(\"secureAlice = \" + secureAlice)\n",
        "print(\"secureBob =   \" + secureBob)"
      ],
      "execution_count": null,
      "outputs": [
        {
          "output_type": "stream",
          "text": [
            "secureAlice =         1  0     10   0 0                 1     1 0   1 1                              1       0    \n",
            "secureBob =           1  0     10   0 0                 1     1 0   1 1                              1       0    \n"
          ],
          "name": "stdout"
        }
      ]
    },
    {
      "cell_type": "code",
      "metadata": {
        "collapsed": true,
        "id": "c5yly0YXyOg5"
      },
      "source": [
        "# Alice and Bob make a hard determination whether the channel is secure.\n",
        "# If it looks like there's something fishy, better hit the kill switch!\n",
        "channelSecure = True # default value, to be changed to False if Eve suspected\n",
        "# TODO: Put your code here.\n",
        "if sampledBobQBER > 0.05:\n",
        "  channelSecure = False"
      ],
      "execution_count": null,
      "outputs": []
    },
    {
      "cell_type": "code",
      "metadata": {
        "id": "vDjnChLAXP75"
      },
      "source": [
        ""
      ],
      "execution_count": null,
      "outputs": []
    },
    {
      "cell_type": "code",
      "metadata": {
        "collapsed": true,
        "id": "-WUtC1dwyOg6"
      },
      "source": [
        ""
      ],
      "execution_count": null,
      "outputs": []
    },
    {
      "cell_type": "code",
      "metadata": {
        "collapsed": true,
        "id": "RRHEcqhRyOg8"
      },
      "source": [
        "# Eve ------------------------------------------------------------------"
      ],
      "execution_count": null,
      "outputs": []
    },
    {
      "cell_type": "code",
      "metadata": {
        "collapsed": true,
        "id": "u0qfeC3xyOg8"
      },
      "source": [
        "# Eve infers the raw key.\n",
        "# keyEve should be a string of n characters.\n",
        "# Use the convention '0', '1', '-'=invalid measurement, ' '=not measured\n",
        "keyEve = \"\"\n",
        "# TODO: Put your code here.\n",
        "for i in range(n):\n",
        "  if basisEve[i] == '+' and outcomeEve[i] == 'H':\n",
        "    keyEve += '0'\n",
        "  elif basisEve[i] == '+' and outcomeEve[i] == 'V':\n",
        "    keyEve += '1'\n",
        "  elif basisBob[i] == 'x' and outcomeEve[i] == 'D':\n",
        "    keyEve += '0'\n",
        "  elif basisEve[i] == 'x' and outcomeEve[i] == 'A':\n",
        "    keyEve += '1'\n",
        "  elif basisEve[i] == \" \":\n",
        "    keyEve += \" \"\n",
        "  else:\n",
        "    keyEve += \"-\"\n",
        "  \n",
        "print(\"keyEve= \" + keyEve)"
      ],
      "execution_count": null,
      "outputs": []
    },
    {
      "cell_type": "code",
      "metadata": {
        "collapsed": true,
        "id": "Af8XWCsgyOg9"
      },
      "source": [
        "# Eve extracts her sifted key.\n",
        "# Knowing what Alice and Bob have publically revealed, Eve\n",
        "# now selects which portion of her sifted key to keep.\n",
        "# stolenEve should be strings of length n.\n",
        "# Use the '0', '1', ' '=removed\n",
        "stolenEve = \"\"\n",
        "# TODO: Put your code here.\n",
        "for i in range(n):\n",
        "  if basisEve[i] == basisAlice[i]:\n",
        "    if keyEve[i] != \"-\":\n",
        "      stolenEve += keyEve[i]\n",
        "    else:\n",
        "      stolenEve += \" \"\n",
        "  else:\n",
        "    stolenEve += \" \"\n",
        "  \n",
        "print(\"stolenEve= \" + stolenEve)"
      ],
      "execution_count": null,
      "outputs": []
    },
    {
      "cell_type": "code",
      "metadata": {
        "collapsed": true,
        "id": "UVbW-Ep_yOg-"
      },
      "source": [
        ""
      ],
      "execution_count": null,
      "outputs": []
    },
    {
      "cell_type": "code",
      "metadata": {
        "collapsed": true,
        "id": "z05b2nZPyOg-",
        "colab": {
          "base_uri": "https://localhost:8080/",
          "height": 234
        },
        "outputId": "c791f339-d546-43c7-8582-62a838e24a75"
      },
      "source": [
        "# ANALYSIS -------------------------------------------------------------\n",
        "\n",
        "# Below is a standard set of metrics to evaluate each protocol.\n",
        "# You need not change any of what follows.\n",
        "\n",
        "# Compare Alice and Bob's sifted keys.\n",
        "numMatchBob = 0\n",
        "actualBobQBER = 0\n",
        "secureKeyRateBob = 0\n",
        "secureKeyLengthBob = 0\n",
        "for i in range(len(secureAlice)):\n",
        "    if secureAlice[i] != ' ':\n",
        "       secureKeyLengthBob += 1\n",
        "       if secureAlice[i] == secureBob[i]:\n",
        "           numMatchBob += 1\n",
        "\n",
        "# Compute the actual quantum bit error rate for Bob.\n",
        "if secureKeyLengthBob > 0:\n",
        "    actualBobQBER = 1 - numMatchBob / secureKeyLengthBob\n",
        "else:\n",
        "    actualBobQBER = float('nan')\n",
        "# Compute the secure key rate, assuming each trial takes 1 microsecond.\n",
        "secureKeyRateBob = (1-actualBobQBER) * secureKeyLengthBob / n * 1e6;\n",
        "\n",
        "# Compare Alice and Eve's sifted keys.\n",
        "numMatchEve = 0\n",
        "actualEveQBER = 0\n",
        "stolenKeyRateEve = 0\n",
        "stolenKeyLengthEve = 0\n",
        "for i in range(len(stolenEve)):\n",
        "    if stolenEve[i] != ' ':\n",
        "       stolenKeyLengthEve += 1\n",
        "       if secureAlice[i] == stolenEve[i]:\n",
        "           numMatchEve += 1\n",
        "# Compute the actual quantum bit error rate for Eve.\n",
        "if stolenKeyLengthEve > 0:\n",
        "    actualEveQBER = 1 - numMatchEve / stolenKeyLengthEve\n",
        "else:\n",
        "    actualEveQBER = float('nan')\n",
        "# Compute the stolen key rate, assuming each trial takes 1 microsecond.\n",
        "stolenKeyRateEve = (1-actualEveQBER) * stolenKeyLengthEve / n * 1e6;\n",
        "\n",
        "\n",
        "# DISPLAY RESULTS ------------------------------------------------------\n",
        "\n",
        "print(\"\")\n",
        "print(\"basisAlice  = \" + basisAlice)\n",
        "print(\"basisBob    = \" + basisBob)\n",
        "print(\"basisEve    = \" + basisEve)\n",
        "print(\"\")\n",
        "print(\"keyAlice    = \" + keyAlice)\n",
        "print(\"keyBob      = \" + keyBob)\n",
        "print(\"keyEve      = \" + keyEve)\n",
        "print(\"\")\n",
        "print(\"siftedAlice = \" + siftedAlice)\n",
        "print(\"siftedBob   = \" + siftedBob)\n",
        "print(\"\")\n",
        "print(\"secureAlice = \" + secureAlice)\n",
        "print(\"secureBob   = \" + secureBob)\n",
        "print(\"stolenEve   = \" + stolenEve)\n",
        "print(\"\")\n",
        "if not channelSecure:\n",
        "    secureKeyRateBob = 0;\n",
        "    stolenKeyRateEve = 0;\n",
        "    print(\"*********************************************\")\n",
        "    print(\"* ALERT! The quantum channel is not secure. *\")\n",
        "    print(\"*********************************************\")\n",
        "    print(\"\")\n",
        "print(\"sampledBobQBER = \" + str(sampledBobQBER))\n",
        "print(\"actualBobQBER  = \" + str(actualBobQBER))\n",
        "print(\"actualEveQBER  = \" + str(actualEveQBER))\n",
        "print(\"\")\n",
        "print(\"secureKeyRateBob = \" + str(secureKeyRateBob/1000) + \" kbps\")\n",
        "print(\"stolenKeyRateEve = \" + str(stolenKeyRateEve/1000) + \" kbps\")\n",
        "\n",
        "# Your goal is to maximize secureKeyRateBob and minimize stolenKeyRateEve."
      ],
      "execution_count": null,
      "outputs": [
        {
          "output_type": "error",
          "ename": "NameError",
          "evalue": "ignored",
          "traceback": [
            "\u001b[0;31m---------------------------------------------------------------------------\u001b[0m",
            "\u001b[0;31mNameError\u001b[0m                                 Traceback (most recent call last)",
            "\u001b[0;32m<ipython-input-23-357c6c22cf6c>\u001b[0m in \u001b[0;36m<module>\u001b[0;34m()\u001b[0m\n\u001b[1;32m     28\u001b[0m \u001b[0mstolenKeyRateEve\u001b[0m \u001b[0;34m=\u001b[0m \u001b[0;36m0\u001b[0m\u001b[0;34m\u001b[0m\u001b[0;34m\u001b[0m\u001b[0m\n\u001b[1;32m     29\u001b[0m \u001b[0mstolenKeyLengthEve\u001b[0m \u001b[0;34m=\u001b[0m \u001b[0;36m0\u001b[0m\u001b[0;34m\u001b[0m\u001b[0;34m\u001b[0m\u001b[0m\n\u001b[0;32m---> 30\u001b[0;31m \u001b[0;32mfor\u001b[0m \u001b[0mi\u001b[0m \u001b[0;32min\u001b[0m \u001b[0mrange\u001b[0m\u001b[0;34m(\u001b[0m\u001b[0mlen\u001b[0m\u001b[0;34m(\u001b[0m\u001b[0mstolenEve\u001b[0m\u001b[0;34m)\u001b[0m\u001b[0;34m)\u001b[0m\u001b[0;34m:\u001b[0m\u001b[0;34m\u001b[0m\u001b[0;34m\u001b[0m\u001b[0m\n\u001b[0m\u001b[1;32m     31\u001b[0m     \u001b[0;32mif\u001b[0m \u001b[0mstolenEve\u001b[0m\u001b[0;34m[\u001b[0m\u001b[0mi\u001b[0m\u001b[0;34m]\u001b[0m \u001b[0;34m!=\u001b[0m \u001b[0;34m' '\u001b[0m\u001b[0;34m:\u001b[0m\u001b[0;34m\u001b[0m\u001b[0;34m\u001b[0m\u001b[0m\n\u001b[1;32m     32\u001b[0m        \u001b[0mstolenKeyLengthEve\u001b[0m \u001b[0;34m+=\u001b[0m \u001b[0;36m1\u001b[0m\u001b[0;34m\u001b[0m\u001b[0;34m\u001b[0m\u001b[0m\n",
            "\u001b[0;31mNameError\u001b[0m: name 'stolenEve' is not defined"
          ]
        }
      ]
    }
  ]
}